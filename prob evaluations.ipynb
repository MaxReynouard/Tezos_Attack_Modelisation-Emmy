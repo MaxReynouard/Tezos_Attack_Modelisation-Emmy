{
 "cells": [
  {
   "cell_type": "code",
   "execution_count": 1,
   "metadata": {
    "ExecuteTime": {
     "end_time": "2022-09-13T14:21:52.511102Z",
     "start_time": "2022-09-13T14:21:51.650488Z"
    }
   },
   "outputs": [],
   "source": [
    "import numpy as np\n",
    "#from math import comb (deprecated)\n",
    "from scipy.special import comb\n",
    "from time import time\n",
    "from tqdm.notebook import tqdm, trange"
   ]
  },
  {
   "cell_type": "markdown",
   "metadata": {},
   "source": [
    "# A class to allow operations on probability distributions, and protocol related classes"
   ]
  },
  {
   "cell_type": "code",
   "execution_count": 2,
   "metadata": {
    "ExecuteTime": {
     "end_time": "2022-09-13T14:21:52.573348Z",
     "start_time": "2022-09-13T14:21:52.534228Z"
    },
    "code_folding": [
     0,
     5,
     9,
     15,
     28,
     32,
     37,
     44,
     52,
     56,
     75,
     79,
     83,
     88,
     93,
     97,
     100,
     110,
     120
    ]
   },
   "outputs": [],
   "source": [
    "class Distribution: #numpy\n",
    "#     A class to manage discret distributions\n",
    "#     Contains a support list (self.n)\n",
    "#     and a probability list (self.p) \n",
    "#     giving the probability we draw the corresponding value from the support\n",
    "    def __init__(self, supports, probas):\n",
    "        self.n = np.array(supports)\n",
    "        self.p = np.array(probas)\n",
    "        \n",
    "    def order(self):\n",
    "#         to sort the support, keeping the corresponding probability \n",
    "        order = np.argsort(self.n)\n",
    "        self.n = self.n[order]\n",
    "        self.p = self.p[order]\n",
    "    \n",
    "    def fuse(self):\n",
    "#         if a support is sorted, and has repeated values, this fuses them with their probability\n",
    "        supp = [self.n[0]]\n",
    "        prob = [self.p[0]]\n",
    "        for n,p in zip(self.n[1:],self.p[1:]):\n",
    "            if n == supp[-1]:\n",
    "                prob[-1] += p\n",
    "            elif p>0 : \n",
    "                supp.append(n)\n",
    "                prob.append(p)\n",
    "        self.n = np.array(supp)\n",
    "        self.p = np.array(prob)\n",
    "        \n",
    "    def normalize(self):\n",
    "#         some manipulations (like filtering) lose normalization, this brings it back\n",
    "        self.p = self.p/self.p.sum()\n",
    "    \n",
    "    def order_n_fuse(self):\n",
    "#         applies the corresponding methods\n",
    "        self.order()\n",
    "        self.fuse()\n",
    "    \n",
    "    def combine(a,b):\n",
    "        support = np.concatenate((a.n,b.n))\n",
    "        probas = np.concatenate((a.p,b.p))\n",
    "        res = Distribution(support, probas)\n",
    "        res.order_n_fuse()\n",
    "        return res\n",
    "    \n",
    "    def filtering(self, cond, norm = False):\n",
    "#         filters over a condition (then normalize)\n",
    "        ind = cond(self.n)\n",
    "        self.p = self.p[ind]\n",
    "        self.n = self.n[ind]\n",
    "        if norm :\n",
    "            self.normalize()\n",
    "    \n",
    "    def sum_cond(self,cond):\n",
    "#         gives the probability we are in a set defined by the condition cond\n",
    "        return self.p[cond(self.n)].sum()\n",
    "        \n",
    "    def function(a,f,b, sup_filter=None, normalize = False):\n",
    "#         returns the probability distribution of f(a,b), \n",
    "#         we can force a condition sup_filter(a,b) over the supports of a and b \n",
    "        if type(b) == Distribution :\n",
    "            val = f(a.n[:,None],b.n)\n",
    "            prob = a.p[:,None] * b.p\n",
    "            ind = np.full(val.shape,True)\n",
    "            if sup_filter is not None :\n",
    "                ind = sup_filter(val)\n",
    "            distrib = Distribution(val[ind], prob[ind]) \n",
    "            distrib.order_n_fuse()            \n",
    "            if sup_filter is not None and normalize:\n",
    "                distrib.normalize()\n",
    "            return distrib\n",
    "        distrib = Distribution(f(a.n,b), a.p)\n",
    "        if sup_filter is not None :\n",
    "            distrib.filtering(sup_filter, normalize)\n",
    "        return distrib\n",
    "            \n",
    "    def __add__(a,b):\n",
    "#         returns the probability distribution of a+b, allows to actually use the a+b syntax\n",
    "        return a.function(lambda x, y: x+y, b)\n",
    "    \n",
    "    def __mul__(a,b):\n",
    "#         returns the probability distribution of a*b, allows to actually use the a*b syntax\n",
    "        return a.function(lambda x, y: x*y, b)\n",
    "\n",
    "    def __truediv__(a,b):\n",
    "#         returns the probability distribution of a/b, allows to actually use the a/b syntax\n",
    "#         WARNING: no control for /0\n",
    "        return a.function(lambda x, y: x/y, b)\n",
    "\n",
    "    def __neg__(a):\n",
    "#         returns the probability distribution of -b, allows to actually use the -b syntax\n",
    "        distrib = Distribution(-a.n[::-1], a.p[::-1]) \n",
    "        return distrib\n",
    "    \n",
    "    def __sub__(a,b):\n",
    "#         returns the probability distribution of a-b, allows to actually use the a-b syntax\n",
    "        return a.function(lambda x, y: x-y, b)\n",
    "\n",
    "    def el_wise_add(a,b):\n",
    "        return a.combine(b)\n",
    "    \n",
    "    def el_wise_sub(a,b):\n",
    "        res  = a.combine(Distribution(b.n,-b.p))\n",
    "        n_neg = res.n[np.where(res.p<0)]\n",
    "        p_a = a.p[np.where(a == n_neg[:,None])[1]]\n",
    "        p_b = b.p[np.where(b == n_neg[:,None])[1]]\n",
    "        if (((p_b-p_a)/p_b) > 10**15).any() :\n",
    "            print('warning: in el_wise_sub we get big negative probabilities, we put them to 0')\n",
    "        res.p[np.where(res.p<0)] = 0\n",
    "        return res\n",
    "    \n",
    "    def cut_geometric(N,p):\n",
    "#         To create distribution that correspond to a truncated geometric distribution \n",
    "#         This corresponds to the probability distribution of the best priority you get at any level\n",
    "        support = np.arange(N+1)\n",
    "        probs = p * np.ones(N+1) * np.power(1-p,support)\n",
    "        probs[-1] = (1-p)**N\n",
    "        distrib = Distribution(support, probs)\n",
    "        distrib.normalize()\n",
    "        return distrib\n",
    "    \n",
    "    def binomial(N,p):\n",
    "#         To create distribution that correspond to a binomial distribution \n",
    "#         This corresponds to the probability distribution of the number of endorsement we get at a level \n",
    "        supports = np.arange(N+1)\n",
    "        probs = [comb(N,n) * s**n * (1-s)**(N-n) for n in supports]\n",
    "        distrib = Distribution(supports, probs)\n",
    "        distrib.normalize()\n",
    "        return distrib\n",
    "        \n",
    "    def __str__(self):\n",
    "        s = ''\n",
    "        for n, p in zip(self.n, self.p):\n",
    "            if type(n) == int :\n",
    "                s = s + f'{n:10d} : {p:.2e}\\n'\n",
    "            else :\n",
    "                s = s + f'{n:.2e} : {p:.2e}\\n'\n",
    "        return s[:-1]"
   ]
  },
  {
   "cell_type": "markdown",
   "metadata": {},
   "source": [
    "note: probably want to upgrade the distribution class's fields to numpy arrays or torch tensors for speed"
   ]
  },
  {
   "cell_type": "code",
   "execution_count": 3,
   "metadata": {
    "ExecuteTime": {
     "end_time": "2022-09-13T14:21:52.604630Z",
     "start_time": "2022-09-13T14:21:52.592639Z"
    },
    "code_folding": [
     0,
     2,
     3,
     6,
     10
    ]
   },
   "outputs": [],
   "source": [
    "# very basic class for representing delay functions, \n",
    "# and sub class for emmy family\n",
    "class Delay:\n",
    "    def __init__(self, f):\n",
    "        self.f = f\n",
    "        \n",
    "    def __call__(self, prio, endo):\n",
    "        return self.f(prio, endo)\n",
    "\n",
    "        \n",
    "class Delay_emmy(Delay):\n",
    "    def __init__(self, emmy):\n",
    "        \n",
    "        if emmy=='emmy':\n",
    "            self.E = 32\n",
    "            super().__init__( lambda p,e: 60 + 75*p)\n",
    "        elif emmy=='emmy+':\n",
    "            self.E = 32\n",
    "            super().__init__( lambda p,e: 60 + 40*p + 8*np.maximum(self.E*3/4-e,0))\n",
    "        elif emmy=='emmy*':\n",
    "            self.E = 256\n",
    "            def f(p,e):\n",
    "                return 30 + ((p!=0) | (e<3*self.E/5)) * (30 + 40*p + 8*np.maximum(self.E*3/4-e,0))\n",
    "#                 if p==0 and e>=3*self.E/5:\n",
    "#                     return 30\n",
    "#                 else:\n",
    "#                     return 60 + 40*p + 8*np.maximum(self.E*3/4-e,0)\n",
    "                    \n",
    "            super().__init__( f)"
   ]
  },
  {
   "cell_type": "markdown",
   "metadata": {
    "heading_collapsed": true
   },
   "source": [
    "# Test\n",
    "To make sure things work  (to be skipped)"
   ]
  },
  {
   "cell_type": "code",
   "execution_count": null,
   "metadata": {
    "ExecuteTime": {
     "end_time": "2022-09-13T08:05:09.565989Z",
     "start_time": "2022-09-13T08:05:09.550532Z"
    },
    "hidden": true,
    "scrolled": true
   },
   "outputs": [],
   "source": [
    "delay = Delay_emmy('emmy+')\n",
    "E = 32\n",
    "P = 32\n",
    "s = 0.2 # stake of attacker\n",
    "\n",
    "# distribution of the attacker's number of endorsement\n",
    "endo = Distribution.binomial(E,s)\n",
    "# distribution of the attacker's best priority\n",
    "prio = Distribution.cut_geometric(P,s)\n",
    "# distribution of the honest bakers' best priority \n",
    "prio_minus = Distribution.cut_geometric(P,1-s)"
   ]
  },
  {
   "cell_type": "code",
   "execution_count": null,
   "metadata": {
    "ExecuteTime": {
     "end_time": "2022-09-13T08:05:10.826315Z",
     "start_time": "2022-09-13T08:05:10.794269Z"
    },
    "hidden": true
   },
   "outputs": [],
   "source": [
    "# we join the two priority distributions into 1 where we get an integer different from 0:\n",
    "# when negative: the attacker has the priority 0 up to the |value|-1, \n",
    "# when positive: the honest bakers have the priority 0 up to the value - 1, \n",
    "# so the best priority for the attacker is minus the value \n",
    "# and the best priority for honest bakers is the value   \n",
    "\n",
    "support = np.concatenate((-prio_minus.n[::-1][:-1],prio.n[1:]))\n",
    "probas = np.concatenate((prio_minus.p[:0:-1], prio.p[1:]))\n",
    "prio_compil = Distribution(support, probas)\n",
    "\n",
    "# the functions to generate the two Delta distribution detailed in the overleaf \n",
    "delta_0_func = lambda p_c, e: delay(np.maximum(0,-p_c), E-e)-delay(np.maximum(0,p_c), E)\n",
    "delta_l_func = lambda p_c, e: delay(np.maximum(0,-p_c), E-e)-delay(np.maximum(0,p_c), e)\n",
    "delta_0 = prio_compil.function(delta_0_func,endo)\n",
    "delta_l = prio_compil.function(delta_l_func,endo)\n",
    "\n",
    "# the list for the probabilities of attacks of length l\n",
    "F_l = delta_0\n",
    "F = [None, F_l.sum_cond(lambda x:x>=0)]\n",
    "\n",
    "F"
   ]
  },
  {
   "cell_type": "markdown",
   "metadata": {
    "hidden": true
   },
   "source": [
    "each execution of the next cell will append a new value to F_l, so we get the probabilities for longer attacks,   \n",
    "WARNING: takes much more time with each execution"
   ]
  },
  {
   "cell_type": "code",
   "execution_count": null,
   "metadata": {
    "ExecuteTime": {
     "end_time": "2022-09-13T08:05:12.149476Z",
     "start_time": "2022-09-13T08:05:12.060421Z"
    },
    "hidden": true
   },
   "outputs": [],
   "source": [
    "F_l = F_l + delta_l\n",
    "F.append(F_l.sum_cond(lambda x:x>=0))\n",
    "F"
   ]
  },
  {
   "cell_type": "markdown",
   "metadata": {},
   "source": [
    "# Results"
   ]
  },
  {
   "cell_type": "markdown",
   "metadata": {},
   "source": [
    "## Basic and Adjusted"
   ]
  },
  {
   "cell_type": "markdown",
   "metadata": {
    "heading_collapsed": true
   },
   "source": [
    "### Basic"
   ]
  },
  {
   "cell_type": "code",
   "execution_count": 4,
   "metadata": {
    "ExecuteTime": {
     "end_time": "2022-09-13T14:22:23.607101Z",
     "start_time": "2022-09-13T14:21:57.755365Z"
    },
    "code_folding": [
     0
    ],
    "hidden": true
   },
   "outputs": [
    {
     "name": "stdout",
     "output_type": "stream",
     "text": [
      " results for protocol emmy+, with stake s = 0.1, attacks up to length 4. E = 32, P = 32:\n",
      "Length 1: 0.1 + 4.96e-07; Length 2: 1.42e-04; Length 3: 8.64e-08; Length 4: 5.94e-11; \n",
      "\n",
      " results for protocol emmy+, with stake s = 0.2, attacks up to length 4. E = 32, P = 32:\n",
      "Length 1: 0.2 + 9.69e-04; Length 2: 7.79e-03; Length 3: 2.24e-04; Length 4: 6.90e-06; \n",
      "\n",
      " results for protocol emmy+, with stake s = 0.3, attacks up to length 4. E = 32, P = 32:\n",
      "Length 1: 0.3 + 2.81e-02; Length 2: 8.12e-02; Length 3: 1.80e-02; Length 4: 4.22e-03; \n",
      "\n",
      " results for protocol emmy+, with stake s = 0.4, attacks up to length 4. E = 32, P = 32:\n",
      "Length 1: 0.4 + 1.36e-01; Length 2: 3.24e-01; Length 3: 2.03e-01; Length 4: 1.32e-01; \n",
      "\n",
      " results for protocol emmy*, with stake s = 0.1, attacks up to length 4. E = 256, P = 32:\n",
      "Length 1: 0.1 + -2.78e-17; Length 2: 4.28e-31; Length 3: 6.93e-62; Length 4: 7.61e-93; \n",
      "\n",
      " results for protocol emmy*, with stake s = 0.2, attacks up to length 4. E = 256, P = 32:\n",
      "Length 1: 0.2 + 6.59e-14; Length 2: 1.08e-16; Length 3: 1.45e-32; Length 4: 1.76e-48; \n",
      "\n",
      " results for protocol emmy*, with stake s = 0.3, attacks up to length 4. E = 256, P = 32:\n",
      "Length 1: 0.3 + 2.04e-04; Length 2: 5.24e-06; Length 3: 1.23e-12; Length 4: 2.73e-19; \n",
      "\n",
      " results for protocol emmy*, with stake s = 0.4, attacks up to length 4. E = 256, P = 32:\n",
      "Length 1: 0.4 + 2.92e-01; Length 2: 2.07e-01; Length 3: 9.67e-03; Length 4: 2.73e-04; \n",
      "\n"
     ]
    }
   ],
   "source": [
    "# Computations\n",
    "P = 32\n",
    "L = 4\n",
    "for protocol, E in zip([\"emmy+\", \"emmy*\"], [32, 256]):\n",
    "    for s in  [0.1,0.2,0.3,0.4]:\n",
    "        delay = Delay_emmy(protocol)\n",
    "        # distribution of the attacker's number of endorsement\n",
    "        endo = Distribution.binomial(E,s)\n",
    "        # distribution of the attacker's best priority\n",
    "        prio = Distribution.cut_geometric(P,s)\n",
    "        # distribution of the honest bakers' best priority \n",
    "        prio_minus = Distribution.cut_geometric(P,1-s)\n",
    "        \n",
    "        # we join the two priority distributions into 1 where we get an integer different from 0\n",
    "        # when negative: the attacker has the priority 0 up to the |value|-1, \n",
    "        # when positive: the honest bakers have the priority 0 up to the value - 1, \n",
    "        # so the best priority for the attacker is minus the value \n",
    "        # and the best priority for honest bakers is the value   \n",
    "        support = np.concatenate((-prio_minus.n[::-1][:-1],prio.n[1:]))\n",
    "        probas = np.concatenate((prio_minus.p[:0:-1], prio.p[1:]))\n",
    "        prio_compil = Distribution(support, probas)\n",
    "\n",
    "        # the functions to generate the two Delta distribution detailed in the overleaf \n",
    "        delta_0_func = lambda p_c, e: delay(np.maximum(0,-p_c), E-e)-delay(np.maximum(0,p_c), E)\n",
    "        delta_l_func = lambda p_c, e: delay(np.maximum(0,-p_c), E-e)-delay(np.maximum(0,p_c), e)\n",
    "        delta_0 = prio_compil.function(delta_0_func,endo)\n",
    "        delta_l = prio_compil.function(delta_l_func,endo)\n",
    "\n",
    "        # the list for the probabilities of attacks of length l\n",
    "        F_l = delta_0\n",
    "        F = [None, F_l.sum_cond(lambda x:x>=0)]\n",
    "        \n",
    "        \n",
    "        print(f\" results for protocol {protocol}, with stake s = {s}, attacks up to length {L}. E = {E}, P = {P}:\")\n",
    "        print(f\"Length {1}: {s} + {(F[-1]-s):.2e};\",end=' ')\n",
    "        for l in range (1,L):\n",
    "            F_l = F_l + delta_l\n",
    "            F.append(F_l.sum_cond(lambda x:x>=0))\n",
    "            print(f\"Length {l+1}: {F[-1]:.2e};\",end=' ')\n",
    "        print('\\n')"
   ]
  },
  {
   "cell_type": "markdown",
   "metadata": {
    "hidden": true
   },
   "source": [
    "Note that we have an numerical issue for emmy*, stake 0.1, length 1 attacks. This is because in the non adjusted version of the calculation, the 0.1 added to the attack probability creates numerical errors.\n",
    "\n",
    "Luckily we can still compute this result with our adjusted feasability or computing directly the result with the following formula which is obtained by expliciting the criteria for length-1 attacks: $$ D(0,E-e) \\le D(p_l^-,E)$$ in the case where $$p_l^->0$$ as otherwise the non-adjusted attack is *successful*"
   ]
  },
  {
   "cell_type": "markdown",
   "metadata": {
    "hidden": true
   },
   "source": [
    "$$e_l^- \\ge max(103,64 + 5p_l^-)$$"
   ]
  },
  {
   "cell_type": "code",
   "execution_count": 5,
   "metadata": {
    "ExecuteTime": {
     "end_time": "2022-09-13T14:22:23.732528Z",
     "start_time": "2022-09-13T14:22:23.719529Z"
    },
    "code_folding": [
     0
    ],
    "hidden": true
   },
   "outputs": [
    {
     "name": "stdout",
     "output_type": "stream",
     "text": [
      "results for protocol emmy*, with stake s = 0.1, attacks up of length 1. E = 256, P = 32\n",
      "We directly calculate it to avoid numerical errors and get:\n",
      "0.1+4.63e-37\n"
     ]
    }
   ],
   "source": [
    "# Computations\n",
    "P = 32\n",
    "E = 256\n",
    "s = 0.1\n",
    "delay = Delay_emmy(\"emmy*\")\n",
    "endo = Distribution.binomial(E,s)\n",
    "prio = Distribution.cut_geometric(P,s)\n",
    "\n",
    "accumulator = 0\n",
    "for pl in prio.n :\n",
    "    a = endo.sum_cond(lambda x: x>= (0 if pl==0 else max(103,64+pl)))\n",
    "    if pl !=0 :    \n",
    "        accumulator += a * prio.p[pl]\n",
    "\n",
    "print(f'results for protocol emmy*, with stake s = {s}, attacks up of length 1. E = {E}, P = {P}')\n",
    "print('We directly calculate it to avoid numerical errors and get:')\n",
    "print(f'{s}+{accumulator:.2e}')\n"
   ]
  },
  {
   "cell_type": "markdown",
   "metadata": {
    "heading_collapsed": true
   },
   "source": [
    "### Adjusted\n"
   ]
  },
  {
   "cell_type": "code",
   "execution_count": 6,
   "metadata": {
    "ExecuteTime": {
     "end_time": "2022-09-13T14:24:21.082539Z",
     "start_time": "2022-09-13T14:22:23.827213Z"
    },
    "code_folding": [
     0
    ],
    "hidden": true
   },
   "outputs": [
    {
     "name": "stdout",
     "output_type": "stream",
     "text": [
      " results for protocol emmy+, with stake s = 0.1, attacks up to length 4. E = 32, P = 32:\n",
      "Length 1:4.96e-07; Length 1: 5.02e-07; Length 2: 3.66e-10; Length 3: 2.70e-13; \n",
      "\n",
      " results for protocol emmy+, with stake s = 0.2, attacks up to length 4. E = 32, P = 32:\n",
      "Length 1:9.69e-04; Length 1: 2.02e-04; Length 2: 7.11e-06; Length 3: 2.40e-07; \n",
      "\n",
      " results for protocol emmy+, with stake s = 0.3, attacks up to length 4. E = 32, P = 32:\n",
      "Length 1:2.81e-02; Length 1: 1.17e-02; Length 2: 3.24e-03; Length 3: 8.89e-04; \n",
      "\n",
      " results for protocol emmy+, with stake s = 0.4, attacks up to length 4. E = 32, P = 32:\n",
      "Length 1:1.36e-01; Length 1: 1.38e-01; Length 2: 1.15e-01; Length 3: 9.42e-02; \n",
      "\n",
      " results for protocol emmy*, with stake s = 0.1, attacks up to length 4. E = 256, P = 32:\n",
      "Length 1:2.45e-37; Length 1: 2.39e-36; Length 2: 7.85e-68; Length 3: 2.68e-99; \n",
      "\n",
      " results for protocol emmy*, with stake s = 0.2, attacks up to length 4. E = 256, P = 32:\n",
      "Length 1:6.61e-14; Length 1: 2.98e-20; Length 2: 3.03e-36; Length 3: 3.16e-52; \n",
      "\n",
      " results for protocol emmy*, with stake s = 0.3, attacks up to length 4. E = 256, P = 32:\n",
      "Length 1:2.04e-04; Length 1: 3.81e-09; Length 2: 5.77e-16; Length 3: 1.12e-22; \n",
      "\n",
      " results for protocol emmy*, with stake s = 0.4, attacks up to length 4. E = 256, P = 32:\n",
      "Length 1:2.92e-01; Length 1: 4.47e-02; Length 2: 1.22e-03; Length 3: 2.54e-05; \n",
      "\n"
     ]
    }
   ],
   "source": [
    "# Computations\n",
    "P = 32\n",
    "L = 4\n",
    "for protocol, E in zip([\"emmy+\", \"emmy*\"], [32, 256]):\n",
    "    for s in  [0.1,0.2,0.3,0.4]:\n",
    "        \n",
    "        delay = Delay_emmy(protocol)\n",
    "        endo = Distribution.binomial(E,s)\n",
    "        prio = Distribution.cut_geometric(P,s)\n",
    "        prio_minus = Distribution.cut_geometric(P,1-s)\n",
    "\n",
    "        support = np.concatenate((-prio_minus.n[::-1][:-1],prio.n[1:]))\n",
    "        probas = np.concatenate((prio_minus.p[:0:-1], prio.p[1:]))\n",
    "        prio_compil = Distribution(support, probas)\n",
    "\n",
    "        delta_0_func = lambda p_c, e: delay(np.maximum(0,-p_c), E-e)-delay(np.maximum(0,p_c), E)\n",
    "        delta_l_func = lambda p_c, e: delay(np.maximum(0,-p_c), E-e)-delay(np.maximum(0,p_c), e)\n",
    "        delta_0 = prio_compil.function(delta_0_func,endo)\n",
    "        delta_l = prio_compil.function(delta_l_func,endo)\n",
    "\n",
    "        # the list for the probabilities of attacks of length l\n",
    "        F_l = delta_0\n",
    "        F = [None, F_l.sum_cond(lambda x:x>=0)]\n",
    "        # With the condition\n",
    "\n",
    "        prio_valid = Distribution.cut_geometric(P,s)\n",
    "        prio_valid.filtering(lambda x:x!=0,False)\n",
    "        FC_l = prio_valid.function(delta_0_func, endo)\n",
    "        FC_l2 = prio_valid.function(delta_0_func, endo)\n",
    "        delta_cond = prio_valid.function(delta_l_func, endo)\n",
    "        FC = [None, FC_l.sum_cond(lambda x:x>=0)]\n",
    "\n",
    "        print(f\" results for protocol {protocol}, with stake s = {s}, attacks up to length {L}. E = {E}, P = {P}:\")\n",
    "        print(f\"Length {1}:{(FC[-1]):.2e};\",end=' ')\n",
    "        for l in range (L-1):\n",
    "            F_l = F_l + delta_l\n",
    "            F.append(F_l.sum_cond(lambda x:x>=0))\n",
    "            part1 = FC_l + delta_l\n",
    "            part2 = F_l  + delta_cond\n",
    "            part3 = FC_l + delta_cond\n",
    "            FC_l = (part1).el_wise_add(part2).el_wise_sub(part3)\n",
    "            FC.append(FC_l.sum_cond(lambda x:x>=0))\n",
    "            print(f\"Length {l+1}: {FC[-1]:.2e};\",end=' ')\n",
    "        print('\\n')\n"
   ]
  },
  {
   "cell_type": "markdown",
   "metadata": {},
   "source": [
    "## With variance reduction"
   ]
  },
  {
   "cell_type": "markdown",
   "metadata": {
    "heading_collapsed": true
   },
   "source": [
    "### Basic"
   ]
  },
  {
   "cell_type": "code",
   "execution_count": 7,
   "metadata": {
    "ExecuteTime": {
     "end_time": "2022-09-13T14:24:21.426605Z",
     "start_time": "2022-09-13T14:24:21.397526Z"
    },
    "code_folding": [
     0
    ],
    "hidden": true
   },
   "outputs": [
    {
     "name": "stdout",
     "output_type": "stream",
     "text": [
      " results for protocol emmy+, with stake s = 0.1, attacks up to length 4. E = 32, P = 2:\n",
      "Length 1: 0.1 + 0.00e+00; Length 2: 0.00e+00; Length 3: 0.00e+00; Length 4: 0.00e+00; \n",
      "\n",
      " results for protocol emmy+, with stake s = 0.2, attacks up to length 4. E = 32, P = 2:\n",
      "Length 1: 0.2 + 0.00e+00; Length 2: 0.00e+00; Length 3: 0.00e+00; Length 4: 0.00e+00; \n",
      "\n",
      " results for protocol emmy+, with stake s = 0.3, attacks up to length 4. E = 32, P = 2:\n",
      "Length 1: 0.3 + 0.00e+00; Length 2: 3.24e-02; Length 3: 0.00e+00; Length 4: 0.00e+00; \n",
      "\n",
      " results for protocol emmy+, with stake s = 0.4, attacks up to length 4. E = 32, P = 2:\n",
      "Length 1: 0.4 + 4.80e-01; Length 2: 1.60e-01; Length 3: 6.40e-02; Length 4: 2.56e-02; \n",
      "\n",
      " results for protocol emmy*, with stake s = 0.1, attacks up to length 4. E = 256, P = 2:\n",
      "Length 1: 0.1 + 0.00e+00; Length 2: 0.00e+00; Length 3: 0.00e+00; Length 4: 0.00e+00; \n",
      "\n",
      " results for protocol emmy*, with stake s = 0.2, attacks up to length 4. E = 256, P = 2:\n",
      "Length 1: 0.2 + 0.00e+00; Length 2: 0.00e+00; Length 3: 0.00e+00; Length 4: 0.00e+00; \n",
      "\n",
      " results for protocol emmy*, with stake s = 0.3, attacks up to length 4. E = 256, P = 2:\n",
      "Length 1: 0.3 + 0.00e+00; Length 2: 0.00e+00; Length 3: 0.00e+00; Length 4: 0.00e+00; \n",
      "\n",
      " results for protocol emmy*, with stake s = 0.4, attacks up to length 4. E = 256, P = 2:\n",
      "Length 1: 0.4 + 2.40e-01; Length 2: 1.02e-01; Length 3: 0.00e+00; Length 4: 0.00e+00; \n",
      "\n"
     ]
    }
   ],
   "source": [
    "# Computations\n",
    "P = 2\n",
    "L = 4\n",
    "for protocol, E in zip([\"emmy+\", \"emmy*\"], [32, 256]):\n",
    "    for s in  [0.1,0.2,0.3,0.4]:\n",
    "        delay = Delay_emmy(protocol)\n",
    "        # distribution of the attacker's number of endorsement\n",
    "        endo = Distribution([0,1],[1-s*E%1,s*E%1]) + int(s*E)\n",
    "        \n",
    "        # we directly define the joint priority distribution\n",
    "        # when negative: the attacker has the priority 0 up to the |value|-1, \n",
    "        # when positive: the honest bakers have the priority 0 up to the value - 1, \n",
    "        # so the best priority for the attacker is minus the value \n",
    "        # and the best priority for honest bakers is the value   \n",
    "        prio_compil = Distribution([-1,1], [s,1-s])\n",
    "\n",
    "        # the functions to generate the two Delta distribution detailed in the overleaf \n",
    "        delta_0_func = lambda p_c, e: delay(np.maximum(0,-p_c), E-e)-delay(np.maximum(0,p_c), E)\n",
    "        delta_l_func = lambda p_c, e: delay(np.maximum(0,-p_c), E-e)-delay(np.maximum(0,p_c), e)\n",
    "        delta_0 = prio_compil.function(delta_0_func,endo)\n",
    "        delta_l = prio_compil.function(delta_l_func,endo)\n",
    "\n",
    "        # the list for the probabilities of attacks of length l\n",
    "        F_l = delta_0\n",
    "        F = [None, F_l.sum_cond(lambda x:x>=0)]\n",
    "\n",
    "        print(f\" results for protocol {protocol}, with stake s = {s}, attacks up to length {L}. E = {E}, P = {P}:\")\n",
    "        print(f\"Length {1}: {s} + {(F[-1]-s):.2e};\",end=' ')\n",
    "        for l in range (1,L):\n",
    "            F_l = F_l + delta_l\n",
    "            F.append(F_l.sum_cond(lambda x:x>=0))\n",
    "            print(f\"Length {l+1}: {F[-1]:.2e};\",end=' ')\n",
    "        print('\\n')\n",
    "        "
   ]
  },
  {
   "cell_type": "markdown",
   "metadata": {
    "heading_collapsed": true
   },
   "source": [
    "### Adjusted"
   ]
  },
  {
   "cell_type": "code",
   "execution_count": 8,
   "metadata": {
    "ExecuteTime": {
     "end_time": "2022-09-13T14:24:21.718092Z",
     "start_time": "2022-09-13T14:24:21.673672Z"
    },
    "code_folding": [
     0
    ],
    "hidden": true
   },
   "outputs": [
    {
     "name": "stdout",
     "output_type": "stream",
     "text": [
      " results for protocol emmy+, with stake s = 0.1, attacks up to length 4. E = 32, P = 32:\n",
      "Length 1:0.00e+00; Length 1: 0.00e+00; Length 2: 0.00e+00; Length 3: 0.00e+00; \n",
      "\n",
      " results for protocol emmy+, with stake s = 0.2, attacks up to length 4. E = 32, P = 32:\n",
      "Length 1:0.00e+00; Length 1: 0.00e+00; Length 2: 0.00e+00; Length 3: 0.00e+00; \n",
      "\n",
      " results for protocol emmy+, with stake s = 0.3, attacks up to length 4. E = 32, P = 32:\n",
      "Length 1:0.00e+00; Length 1: 0.00e+00; Length 2: 0.00e+00; Length 3: 0.00e+00; \n",
      "\n",
      " results for protocol emmy+, with stake s = 0.4, attacks up to length 4. E = 32, P = 32:\n",
      "Length 1:4.80e-01; Length 1: 0.00e+00; Length 2: 0.00e+00; Length 3: 0.00e+00; \n",
      "\n",
      " results for protocol emmy*, with stake s = 0.1, attacks up to length 4. E = 256, P = 32:\n",
      "Length 1:0.00e+00; Length 1: 0.00e+00; Length 2: 0.00e+00; Length 3: 0.00e+00; \n",
      "\n",
      " results for protocol emmy*, with stake s = 0.2, attacks up to length 4. E = 256, P = 32:\n",
      "Length 1:0.00e+00; Length 1: 0.00e+00; Length 2: 0.00e+00; Length 3: 0.00e+00; \n",
      "\n",
      " results for protocol emmy*, with stake s = 0.3, attacks up to length 4. E = 256, P = 32:\n",
      "Length 1:0.00e+00; Length 1: 0.00e+00; Length 2: 0.00e+00; Length 3: 0.00e+00; \n",
      "\n",
      " results for protocol emmy*, with stake s = 0.4, attacks up to length 4. E = 256, P = 32:\n",
      "Length 1:2.40e-01; Length 1: 0.00e+00; Length 2: 0.00e+00; Length 3: 0.00e+00; \n",
      "\n"
     ]
    }
   ],
   "source": [
    "# Computations\n",
    "P = 32\n",
    "L = 4\n",
    "for protocol, E in zip([\"emmy+\", \"emmy*\"], [32, 256]):\n",
    "    for s in  [0.1,0.2,0.3,0.4]:\n",
    "        \n",
    "        delay = Delay_emmy(protocol)\n",
    "        \n",
    "        endo = Distribution([0,1],[1-s*E%1,s*E%1]) + int(s*E)\n",
    "        \n",
    "        # we directly define the joint priority distribution\n",
    "        # when negative: the attacker has the priority 0 up to the |value|-1, \n",
    "        # when positive: the honest bakers have the priority 0 up to the value - 1, \n",
    "        # so the best priority for the attacker is minus the value \n",
    "        # and the best priority for honest bakers is the value   \n",
    "        prio_compil = Distribution([-1,1], [s,1-s])\n",
    "\n",
    "        delta_0_func = lambda p_c, e: delay(np.maximum(0,-p_c), E-e)-delay(np.maximum(0,p_c), E)\n",
    "        delta_l_func = lambda p_c, e: delay(np.maximum(0,-p_c), E-e)-delay(np.maximum(0,p_c), e)\n",
    "        delta_0 = prio_compil.function(delta_0_func,endo)\n",
    "        delta_l = prio_compil.function(delta_l_func,endo)\n",
    "\n",
    "        # the list for the probabilities of attacks of length l\n",
    "        F_l = delta_0\n",
    "        F = [None, F_l.sum_cond(lambda x:x>=0)]\n",
    "        # With the condition\n",
    "\n",
    "        prio_valid = Distribution([0,1],[s,1-s])\n",
    "        prio_valid.filtering(lambda x:x!=0,False)\n",
    "        FC_l = prio_valid.function(delta_0_func, endo)\n",
    "        FC_l2 = prio_valid.function(delta_0_func, endo)\n",
    "        delta_cond = prio_valid.function(delta_l_func, endo)\n",
    "        FC = [None, FC_l.sum_cond(lambda x:x>=0)]\n",
    "\n",
    "        print(f\" results for protocol {protocol}, with stake s = {s}, attacks up to length {L}. E = {E}, P = {P}:\")\n",
    "        print(f\"Length {1}:{(FC[-1]):.2e};\",end=' ')\n",
    "        for l in range (L-1):\n",
    "            F_l = F_l + delta_l\n",
    "            F.append(F_l.sum_cond(lambda x:x>=0))\n",
    "            part1 = FC_l + delta_l\n",
    "            part2 = F_l  + delta_cond\n",
    "            part3 = FC_l + delta_cond\n",
    "            FC_l = (part1).el_wise_add(part2).el_wise_sub(part3)\n",
    "            FC.append(FC_l.sum_cond(lambda x:x>=0))\n",
    "            print(f\"Length {l+1}: {FC[-1]:.2e};\",end=' ')\n",
    "        print('\\n')\n"
   ]
  }
 ],
 "metadata": {
  "hide_input": false,
  "kernelspec": {
   "display_name": "Python 3",
   "language": "python",
   "name": "python3"
  },
  "language_info": {
   "codemirror_mode": {
    "name": "ipython",
    "version": 3
   },
   "file_extension": ".py",
   "mimetype": "text/x-python",
   "name": "python",
   "nbconvert_exporter": "python",
   "pygments_lexer": "ipython3",
   "version": "3.8.5"
  },
  "toc": {
   "base_numbering": 1,
   "nav_menu": {},
   "number_sections": true,
   "sideBar": true,
   "skip_h1_title": false,
   "title_cell": "Table of Contents",
   "title_sidebar": "Contents",
   "toc_cell": false,
   "toc_position": {},
   "toc_section_display": true,
   "toc_window_display": false
  },
  "varInspector": {
   "cols": {
    "lenName": 16,
    "lenType": 16,
    "lenVar": 40
   },
   "kernels_config": {
    "python": {
     "delete_cmd_postfix": "",
     "delete_cmd_prefix": "del ",
     "library": "var_list.py",
     "varRefreshCmd": "print(var_dic_list())"
    },
    "r": {
     "delete_cmd_postfix": ") ",
     "delete_cmd_prefix": "rm(",
     "library": "var_list.r",
     "varRefreshCmd": "cat(var_dic_list()) "
    }
   },
   "types_to_exclude": [
    "module",
    "function",
    "builtin_function_or_method",
    "instance",
    "_Feature"
   ],
   "window_display": false
  }
 },
 "nbformat": 4,
 "nbformat_minor": 4
}
